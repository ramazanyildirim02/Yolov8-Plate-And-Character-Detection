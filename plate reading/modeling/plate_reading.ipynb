version https://git-lfs.github.com/spec/v1
oid sha256:10e72095ef72c216b65313d9d2971a328a3898a4b3691ddaeb11a289c086112e
size 1667900
